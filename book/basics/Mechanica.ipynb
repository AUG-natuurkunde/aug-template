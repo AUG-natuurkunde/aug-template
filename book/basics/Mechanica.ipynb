{
 "cells": [
  {
   "cell_type": "markdown",
   "metadata": {},
   "source": [
    "# Mechanica"
   ]
  },
  {
   "cell_type": "markdown",
   "metadata": {},
   "source": [
    "\n",
    "### Quiz Notations and Products\n",
    "\n",
    ":::{card} Exercise 1\n",
    "What is the type of the result of the product?\n",
    "\n",
    "$\\mathit{v}_i \\cdot \\mathit{A}_{ij} \\cdot \\mathit{w}_j$\n",
    "\n",
    "\n",
    "```{admonition} Solution\n",
    ":class: tip, dropdown\n",
    "Scalar\n",
    "```\n",
    ":::\n",
    "\n",
    ":::{card} Exercise 2\n",
    "How would you write the product\n",
    "\n",
    "$\\mathit{v}_i \\cdot \\mathit{A}_{ij} \\cdot \\mathit{w}_j$\n",
    "\n",
    "in matrix/vector notation?\n",
    "```{admonition} Solution\n",
    ":class: tip, dropdown\n",
    "$\\mathbf{v}^T \\cdot \\mathbf{A} \\cdot \\mathbf{w}$\n",
    "```\n",
    ":::\n",
    "\n",
    ":::{card} Exercise 3\n",
    "What is the type of the result of the following product?\n",
    "\n",
    "$\\mathit{v}_i \\cdot \\mathit{w}_j$\n",
    "```{admonition} Solution\n",
    ":class: tip, dropdown\n",
    "Second order tensor\n",
    "```\n",
    ":::\n",
    "\n",
    ":::{card} Exercise 4\n",
    "How would you write the product\n",
    "\n",
    "$\\mathit{A}_{ij} \\cdot \\mathit{v}_{i}$\n",
    "\n",
    "in matrix vector notation?\n",
    "```{admonition} Solution\n",
    ":class: tip, dropdown\n",
    "$\\mathbf{A}^T \\cdot \\mathbf{v}$\n",
    "```\n",
    ":::\n",
    "\n",
    ":::{card} Exercise 5\n",
    "How would you write the result of the product\n",
    "\n",
    "$\\mathit{v}_{i} \\cdot \\mathit{w}_{j}$\n",
    "\n",
    "in matrix vector notation?\n",
    "```{admonition} Solution\n",
    ":class: tip, dropdown\n",
    "$\\mathbf{v} \\cdot \\mathbf{w}^T$\n",
    "```\n",
    ":::\n",
    "\n",
    ":::{card} Exercise 6\n",
    "How would you write the product\n",
    "\n",
    "$\\mathbf{A} \\cdot \\mathbf{B}^T$\n",
    "\n",
    "in index notation?\n",
    "```{admonition} Solution\n",
    ":class: tip, dropdown\n",
    "$\\mathit{A}_{ik} \\cdot \\mathit{B}_{jk}$\n",
    "```\n",
    ":::"
   ]
  },
  {
   "cell_type": "markdown",
   "metadata": {},
   "source": []
  }
 ],
 "metadata": {
  "kernelspec": {
   "display_name": "Python 3",
   "language": "python",
   "name": "python3"
  },
  "language_info": {
   "codemirror_mode": {
    "name": "ipython",
    "version": 3
   },
   "file_extension": ".py",
   "mimetype": "text/x-python",
   "name": "python",
   "nbconvert_exporter": "python",
   "pygments_lexer": "ipython3",
   "version": "3.8.0"
  },
  "widgets": {
   "application/vnd.jupyter.widget-state+json": {
    "state": {},
    "version_major": 2,
    "version_minor": 0
   }
  }
 },
 "nbformat": 4,
 "nbformat_minor": 4
}
