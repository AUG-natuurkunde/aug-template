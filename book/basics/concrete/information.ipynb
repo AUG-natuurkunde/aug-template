{
 "cells": [
  {
   "cell_type": "markdown",
   "metadata": {},
   "source": [
    "# Information\n",
    "\n",
    "## Different sources\n",
    "\n",
    "  - **Internet**\n",
    "    - [VBI.nl](https://www.vbi.nl/): Hollow core slabs and system floors (only in Dutch)\n",
    "    - [Spanbeton.nl](https://www.spanbeton.nl/): Large prefab elements used in road- and railway construction, hydraulic engineering, industrial buildings, and concrete sheet piling (only in Dutch)\n",
    "    - [Dycore.nl](https://www.dycore.nl/): Different floor systems. CAD drawings and details can be downloaded. Design graphs are available (only in Dutch)\n",
    "    - [Bubbledeck.nl](https://www.bubbledeck.nl/): The new bubble-deck system to construct lighter floors (only in Dutch)\n",
    "    - [Haitsma.nl](https://www.haitsma.nl/): Bridges, foundations, offices, parking lots. CAD details and design graphs (only in Dutch)\n",
    "    - [Koraton.be](https://www.koraton.be/): Different system floors (in Dutch or French)\n",
    "    - [Heidelbergcement.com](https://www.heidelbergcement.com/): General information on cement and concrete (most languages available)\n",
    "  - **Magazines**: Cement projects, elements, and materials\n"
   ]
  },
  {
   "cell_type": "markdown",
   "metadata": {},
   "source": []
  }
 ],
 "metadata": {
  "kernelspec": {
   "display_name": "Python 3",
   "language": "python",
   "name": "python3"
  },
  "language_info": {
   "codemirror_mode": {
    "name": "ipython",
    "version": 3
   },
   "file_extension": ".py",
   "mimetype": "text/x-python",
   "name": "python",
   "nbconvert_exporter": "python",
   "pygments_lexer": "ipython3",
   "version": "3.8.0"
  },
  "widgets": {
   "application/vnd.jupyter.widget-state+json": {
    "state": {},
    "version_major": 2,
    "version_minor": 0
   }
  }
 },
 "nbformat": 4,
 "nbformat_minor": 4
}
