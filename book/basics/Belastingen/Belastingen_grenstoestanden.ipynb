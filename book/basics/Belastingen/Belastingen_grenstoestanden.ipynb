{
 "cells": [
  {
   "cell_type": "markdown",
   "metadata": {},
   "source": [
    "# Belastingcombinaties en grenstoestanden\n",
    "\n",
    "Elke constructie moet voldoen aan de twee hoofdgrenstoestanden die direct te maken hebben met de betrouwbaarheid (sterkte) en bruikbaarheid (stijfheid). De uiterste grenstoestand (UGT) wordt benut bij de toetsing van de constructieve veiligheid. De bruikbaarheidsgrenstoestand (BGT) wordt benut bij de toetsing van de eisen voor de bruikbaarheid. \n",
    "\n",
    "Belastingcombinaties bestaan uit de combinaties van de rekenwaarden van de permanente en veranderlijke belastingen. Daarbij worden zowel de representatieve als de momentane waarden van de belastingen gecombineerd voor de UGT of de BGT. Zelf zul je de maatgevende belastingcombinatie van de draagconstructie of het constructie-element moeten bepalen. Bedenk hierbij om welk constructie-element het gaat, bijv. een vloerligger, een kolom of een stabiliteitsconstructie.\n",
    "\n",
    "Bouwconstructies en onderdelen van bouwconstructies, en hun ondersteuningen of bevestigingen moeten met voldoende betrouwbaarheid bestand zijn tegen de ongunstigste combinaties van \n",
    "belastingen die gelijktijdig kunnen optreden, met dien verstande dat:\n",
    "- de extreme waarde van een veranderlijke belasting niet gecombineerd hoeft te zijn met extreme waarden van andere veranderlijke belastingen of met bijzondere belastingen\n",
    "- een bijzondere belasting niet gecombineerd hoeft te zijn met extreme waarden van veranderlijke belastingen of met andere bijzondere belastingen\n",
    "- in een aantal gevallen uitgesloten is dat op verschillende delen van de constructie de extreme en momentane of nulwaarde van hetzelfde belastingsgeval gelijktijdig voorkomt (o.a. de wind- en sneeuwbelasting)."
   ]
  },
  {
   "cell_type": "markdown",
   "metadata": {},
   "source": [
    "## Uiterste grenstoestand (UGT), fundamentele combinaties\n",
    "\n",
    "Een belastingscombinatie bestaat over het algemeen uit het eigen gewicht, een overheersende veranderlijke belasting en\n",
    "eventuele overige veranderlijke belastingen.\n",
    "\n",
    "$\\gamma_{G,j} \\cdot G_{k,j}$ &nbsp; \"$+$\" &nbsp; $\\gamma_{Q,1} \\cdot Q_{k,1}$ &nbsp; \"$+$\" &nbsp; $\\sum \\gamma_{Q,i} \\cdot \\Psi_{0,i} \\cdot Q_{k,i}$\n",
    "\n",
    "| Symbol | Betekenis |\n",
    "|--------|-------------|\n",
    "| $\\gamma_{G,j}$ | veiligheidsfactor permanente belasting |\n",
    "| $G_{k,j}$ | totale permanente belasting |\n",
    "| $\\gamma_{Q,1}$ | veiligheidsfactor veranderlijke belasting |\n",
    "| $Q_{k,1}$ | overheersende veranderlijke belasting |\n",
    "| $\\Psi_{0,1}$ | combinatiefactor behorende bij veranderlijke belasting $Q_{k,i}$ |\n",
    "| $Q_{k,i}$ | eventuele overige veranderlijke belastingen |\n",
    "| $+$ | betekent \"te combineren met\" |\n",
    "| $\\sum$ | betekent \"de gecombineerde uitkomst van\" |\n"
   ]
  },
  {
   "cell_type": "markdown",
   "metadata": {},
   "source": [
    "## Bruikbaarheidsgrenstoestanden (BGT)\n",
    "De in aanmerking te nemen vervormingen met betrekking tot de bruikbaarheidseisen behoren die te zijn als omschreven in sectie <> al naargelang de aard van de bouwwerken, of zoals overeengekomen met de opdrachtgever of de nationale overheid.\n",
    "\n",
    "**Karakteristieke combinatie**\n",
    "\n",
    "De karakteristieke combinatie wordt gebruikt voor onomkeerbare grenstoestanden (plastische vervorming). Hiermee wordt bedoeld dat ergens in de constructie vloeien (staal) of scheurvorming optreedt (beton/metselwerk) door het vervormen van het constructiedeel. Dit kan bijvoorbeeld gaan om het scheuren van een metselwerk scheidingswand ten gevolge van doorbuiging van de vloer. \n",
    "\n",
    "$G_{k,j}$ &nbsp; \"$+$\" &nbsp; $Q_{k,1}$ &nbsp; \"$+$\" &nbsp; $\\sum \\Psi_{2,i} \\cdot Q_{k;i}$\n",
    "\n",
    "| Symbool | Betekenis |\n",
    "|--------|-------------|\n",
    "| $\\mathsf{G_{k,j}}$ | totale permanente belasting |\n",
    "| $\\mathsf{\\Psi_{1,1}}$ | factor i.v.m. frequente waarde belasting |\n",
    "| $\\mathsf{Q_{k,1}}$ | overheersende veranderlijke belasting |\n",
    "| $\\mathsf{\\Psi_{2,i}}$ | factor i.v.m. quasi-blijvende waarde belasting |\n",
    "| $\\mathsf{Q_{k,i}}$ | eventuele overige veranderlijke belastingen |\n",
    "| ``$+$'' | betekent \"te combineren met\" |\n",
    "| $\\mathsf{\\sum}$ | betekent \"de gecombineerde uitkomst van\" |\n",
    "\n",
    "**Quasi-blijvende combinatie**\n",
    "\n",
    "De quasi-blijvende combinatie wordt gebruikt voor langetermijneffecten (krimp en kruip) en voor het uiterlijk van de constructie. \n",
    "\n",
    "$G_{k,j}$ &nbsp; \"$+$\" &nbsp; $\\sum \\Psi_{2,i} \\cdot Q_{k;i}$\n",
    "\n",
    "| Symbool | Betekenis |\n",
    "|--------|-------------|\n",
    "| $\\mathsf{G_{k,j}}$ | totale permanente belasting |\n",
    "| $\\mathsf{\\Psi_{2,i}}$ | factor i.v.m. quasi-blijvende waarde belasting |\n",
    "| $\\mathsf{Q_{k,i}}$ | veranderlijke belastingen |\n",
    "| ``$+$'' | betekent \"te combineren met\" |\n",
    "| $\\mathsf{\\sum}$ | betekent \"de gecombineerde uitkomst van\" |\n",
    "\n"
   ]
  },
  {
   "cell_type": "markdown",
   "metadata": {},
   "source": [
    "## Belastingsfactoren uiterste grenstoestand\n",
    "\n",
    "De belastingsfactoren worden in de Eurocode partiële factoren genoemd. In sommige andere literatuur worden ze veilig heidsfactoren genoemd. Bij de toepassing van de belastingsfactoren moet er onderscheid gemaakt worden tussen gunstig en ongunstig werkende belastingen. Dit is afhankelijk van de toets die uitgevoerd wordt. Toets je bijvoorbeeld het moment in een ligger op twee steunpunten waarop een neerwaartse belasting (eigengewicht) en een opwaartse belasting (windzuiging) werken, dan zal het moment in de ligger minder kritisch zijn als beide belastingen gelijktijdig optreden. Een van de belastingen werkt dus gunstig.\n",
    "\n",
    "| Gevolgklasse (CC) | $\\mathsf{\\gamma_{f;g}}$ (permanente belasting) | $\\mathsf{\\gamma_{f;q}}$ (veranderlijke belasting) |\n",
    "|--------------------|----------------------------------------------|-----------------------------------------------|\n",
    "|                    | Ongunstig                                    | Gunstig                                       |\n",
    "|--------------------|----------------------------------------------|-----------------------------------------------|\n",
    "| 1                  | 1,1                                          | 0,9                                           |\n",
    "| 2                  | 1,2                                          | 0,9                                           |\n",
    "| 3                  | 1,3                                          | 0,9                                           |\n"
   ]
  },
  {
   "cell_type": "markdown",
   "metadata": {},
   "source": []
  }
 ],
 "metadata": {
  "kernelspec": {
   "display_name": "geospatial",
   "language": "python",
   "name": "geospatial"
  },
  "language_info": {
   "codemirror_mode": {
    "name": "ipython",
    "version": 3
   },
   "file_extension": ".py",
   "mimetype": "text/x-python",
   "name": "python",
   "nbconvert_exporter": "python",
   "pygments_lexer": "ipython3",
   "version": "3.9.13"
  },
  "widgets": {
   "application/vnd.jupyter.widget-state+json": {
    "state": {},
    "version_major": 2,
    "version_minor": 0
   }
  }
 },
 "nbformat": 4,
 "nbformat_minor": 4
}
