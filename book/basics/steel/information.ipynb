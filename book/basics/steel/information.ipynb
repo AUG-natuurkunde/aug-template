{
 "cells": [
  {
   "cell_type": "markdown",
   "metadata": {},
   "source": [
    "# Information\n",
    "\n",
    "## Different sources\n",
    "\n",
    "  - **Internet**\n",
    "    - [Corusconstruction](https://www.corusconstruction.com/) hot rolled and cold formed sections (blue book), composite slab floors, sheet piling, bolts, details, case studies\n",
    "    - [Voetstalpine](https://www.voestalpine.com/sadef/en/SEO/cold-formed-profiles) cold formed profiles\n",
    "    - [Bouwen met Staal](https://www.bouwenmetstaal.nl/) (dutch) steel profiles, links, tools\n",
    "\n",
    "  - **Magazines**:\n",
    "    - Bouwen met staal (dutch): projects, materials\n",
    "\n",
    "  - **Books**: \n",
    "    - Overspannend staal, Basisboek, Construeren A, B (dutch): design methods, examples and material information. Note: these books are based on the old dutch code\n",
    "\n",
    "  - **Search terms**:\n",
    "    - Steel, steelprofiles, steelconstruction."
   ]
  },
  {
   "cell_type": "markdown",
   "metadata": {},
   "source": []
  }
 ],
 "metadata": {
  "kernelspec": {
   "display_name": "Python 3",
   "language": "python",
   "name": "python3"
  },
  "language_info": {
   "codemirror_mode": {
    "name": "ipython",
    "version": 3
   },
   "file_extension": ".py",
   "mimetype": "text/x-python",
   "name": "python",
   "nbconvert_exporter": "python",
   "pygments_lexer": "ipython3",
   "version": "3.8.0"
  },
  "widgets": {
   "application/vnd.jupyter.widget-state+json": {
    "state": {},
    "version_major": 2,
    "version_minor": 0
   }
  }
 },
 "nbformat": 4,
 "nbformat_minor": 4
}
