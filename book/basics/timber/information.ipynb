{
 "cells": [
  {
   "cell_type": "markdown",
   "metadata": {},
   "source": [
    "# Information\n",
    "\n",
    "## Different sources\n",
    "\n",
    "  - **Internet**\n",
    "    - [Centrum Hout](https://www.centrumhout.nl/) buildings, bridges, other structures, photos, ideas\n",
    "    - [houtdatabase.nl](https://www.houtdatabase.nl/) durability properties of timber species\n",
    "\n",
    "  - **Books**: \n",
    "    - Holzbau Atlas, J. Natterer, T. Herzog, M. Volz: buildings, photos, drawings, connections.\n",
    "    - STEP 1, 2 Timber Engineering, Centrum Hout: calculation methods for timber structures\n",
    "    - Timber Construction Manual, Brikhäuser: examples of timber structres and connections\n",
    "\n",
    "  - **Magazines**:\n",
    "    - Het Houtblad (ductch), Centrum Hout\n",
    "    - Hout in de bouw (dutch), Schiedam Nijgh Periodieken\n",
    "\n",
    "  - **Search terms**:\n",
    "    - Glulam, cross laminated timer"
   ]
  },
  {
   "cell_type": "markdown",
   "metadata": {},
   "source": []
  }
 ],
 "metadata": {
  "kernelspec": {
   "display_name": "Python 3",
   "language": "python",
   "name": "python3"
  },
  "language_info": {
   "codemirror_mode": {
    "name": "ipython",
    "version": 3
   },
   "file_extension": ".py",
   "mimetype": "text/x-python",
   "name": "python",
   "nbconvert_exporter": "python",
   "pygments_lexer": "ipython3",
   "version": "3.8.0"
  },
  "widgets": {
   "application/vnd.jupyter.widget-state+json": {
    "state": {},
    "version_major": 2,
    "version_minor": 0
   }
  }
 },
 "nbformat": 4,
 "nbformat_minor": 4
}
