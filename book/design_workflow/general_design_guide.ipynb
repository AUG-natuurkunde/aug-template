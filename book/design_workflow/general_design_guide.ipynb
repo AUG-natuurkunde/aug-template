{
 "cells": [
  {
   "cell_type": "markdown",
   "metadata": {},
   "source": [
    "# General design guide\n",
    "\n",
    "## The design process\n",
    "\n",
    "The design process is part of the life cycle of a structure: the ‘idea-phase’, \n",
    "the ‘design-phase’, the ‘construction phase’, the ‘use and maintenance phase’, \n",
    "and the ‘demolition phase’. The structural engineer acts in the ‘design phase’. \n",
    "The terms ‘initiative’, ‘project definition’, ‘concepts’, ‘preliminary design’, \n",
    "and ‘verification of structural safety’ will be explained shortly below.\n",
    "\n",
    "## Project definition\n",
    "\n",
    "To define the project, one first drafts a plan of action (strategy). This\n",
    "determines how to proceed in this phase, what the results should be and\n",
    "the criteria to which the result of this phase should be compared. Just like\n",
    "in the previous phase various aspectstudies need to be done. Eventually\n",
    "this leads to the formulation of a report containing all basic assumptions\n",
    "concerning the structural design. This forms a supplement to the PoR.\n",
    "\n",
    "## Concepts\n",
    "\n",
    "In this phase too several studies have to be performed. The designer makes several\n",
    "‘structural’ concepts. To make a sensible design, he first analyses the force flow\n",
    "in both horizontal and vertical direction. Also the ability of the structure to retain\n",
    "its shape and place is investigated as well as the connections between different\n",
    "elements and parts of the building. After feedback from the structural assumptions\n",
    "at least two of the concepts are chosen for further analysis. With the aid of design\n",
    "tools (rules of thumb, diagrams and tables) the overall dimensions of the structure\n",
    "(including stability measures) are determined and critical connections are studied\n",
    "for feasibility. The sections on different materials contain information on\n",
    "structural elements (such as precast conrete beams, hollow core slabs etc.)\n",
    "and tables with available (steel) profiles to come to reasonable dimensions. Already\n",
    "in this stage it is wise to orientate on different foundation possibilities as\n",
    "the foundation can have influence on the rest of the structure. The section on\n",
    "foundations can provide the necessary information. Although the load bearing\n",
    "structure is designed, this phase is not yet finished. Finally the designer needs\n",
    "to look into possible façades and roof elements. Now a choice can be made between\n",
    "the different concepts based on a multi criteria analysis. The criteria are based\n",
    "on the PoR and structural assumptions.\n",
    "\n",
    "## Preliminairy structural design\n",
    "\n",
    "Now all the dimensions of the chosen structure can be determined. Again the sections\n",
    "on the different materials can be helpful. Make sure, also in this preliminairy\n",
    "design, that stability of your structure is ensured. It is a good idea to search\n",
    "for alternative possibilities for the foundation and connecting structure to prevent\n",
    "surprises in the final design stage. Also the building envelope deserves some\n",
    "attention. Use the different examples given in the later chapters.\n",
    "\n",
    "## Preliminary design\n",
    "\n",
    "In this phase a further analysis of the strength, behaviour of the structure\n",
    "is made. Also the stability is checked, and necessary stability measures are added.\n",
    "To do this, quick calculations are made with simplified load combinations. The\n",
    "section on mechanics offers the necessary formulas and ‘forget-me-nots’. More\n",
    "attention is given to the foundation of the structure. Calculate the total vertical\n",
    "load and design a transition structure (which transfers the loads from the main\n",
    "load bearing structure to the foundation). Also a further analysis is made of the\n",
    "possible façades, roof elements and other building finishes needs to be made. How\n",
    "are the building finishes connected to the load bearing structure?\n",
    "\n",
    "## Verification of the structural safety and servicability\n",
    "\n",
    "The final preliminairy design of which the final dimensions are now determined,\n",
    "has to be checked with a structural code. In Europe this is the Eurocode. The\n",
    "different sections on steel, timber, concrete and foundations contain the\n",
    "necessary information to perform the check.\n"
   ]
  },
  {
   "cell_type": "markdown",
   "metadata": {},
   "source": []
  }
 ],
 "metadata": {
  "kernelspec": {
   "display_name": "Python 3",
   "language": "python",
   "name": "python3"
  },
  "language_info": {
   "codemirror_mode": {
    "name": "ipython",
    "version": 3
   },
   "file_extension": ".py",
   "mimetype": "text/x-python",
   "name": "python",
   "nbconvert_exporter": "python",
   "pygments_lexer": "ipython3",
   "version": "3.8.0"
  },
  "widgets": {
   "application/vnd.jupyter.widget-state+json": {
    "state": {},
    "version_major": 2,
    "version_minor": 0
   }
  }
 },
 "nbformat": 4,
 "nbformat_minor": 4
}
