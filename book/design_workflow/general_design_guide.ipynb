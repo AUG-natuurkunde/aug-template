{
 "cells": [
  {
   "cell_type": "markdown",
   "metadata": {},
   "source": [
    "# General design guide",
   ]
  },
  {
   "cell_type": "markdown",
   "metadata": {},
   "source": [
    "## The design process\n",
    "\n",
    "The design process is part of the life cycle of a structure: the ‘idea-phase’, 
     the ‘design-phase’, the ‘construction phase’, the ‘use and maintenance phase’, 
     and the ‘demolition phase’. The structural engineer acts in the ‘design phase’. 
     The terms ‘initiative’, ‘project definition’, ‘concepts’, ‘preliminary design’, 
     and ‘verification of structural safety’ will be explained shortly below.\\\n"
   ]
  },
  {
   "cell_type": "markdown",
   "metadata": {},
   "source": [
    "## Project definition\n",
    "\n",
    "To define the project, one first drafts
     a plan of action (strategy). This
     determines how to proceed in this
     phase, what the results should be and
     the criteria to which the result of this
     phase should be compared. Just like
     in the previous phase various aspectstudies
     need to be done. Eventually
     this leads to the formulation of a report
     containing all basic assumptions
     concerning the structural design. This
     forms a supplement to the PoR.\\\n"
   ]
  },
  {
   "cell_type": "markdown",
   "metadata": {},
   "source": [
    "## Concepts\n",
    "\n",
    "In this phase too several studies
     have to be performed. The designer
     makes several ‘structural’ concepts.
     To make a sensible design, he
     first analyses the force flow in both
     horizontal and vertical direction. Also
     the ability of the structure to retain
     its shape and place is investigated
     as well as the connections between
     different elements and parts of the
     building. After feedback from the
     structural assumptions at least two of
     the concepts are chosen for further
     analysis. With the aid of design tools
     (rules of thumb, diagrams and tables)
     the overall dimensions of the structure
     (including stability measures) are
     determined and critical connections
     are studied for feasibility. The
     sections on different materials contain
     information on structural elements
     (such as precast conrete beams,
     hollow core slabs etc.) and tables
     with available (steel) profiles to come
     to reasonable dimensions. Already
     in this stage it is wise to orientate on
     different foundation possibilities as the
     foundation can have influence on the
     rest of the structure. The section on
     foundations can provide the necessary
     information. Although the load bearing
     structure is designed, this phase is not
     yet finished. Finally the designer needs
     to look into possible façades and roof
     elements. Now a choice can be made
     between the different concepts based
     on a multi criteria analysis. The criteria
     are based on the PoR and structural
     assumptions.\\\n"      
   ]
  },
  {
   "cell_type": "markdown",
   "metadata": {},
   "source": [
    "## Preliminairy structural design\n",
    "\n",
    "Now all the dimensions of the chosen
     structure can be determined. Again
     the sections on the different materials
     can be helpful. Make sure, also in
     this preliminairy design, that stability
     of your structure is ensured. It is a
     good idea to search for alternative
     possibilities for the foundation and
     connecting structure to prevent
     surprises in the final design stage. Also
     the building envelope deserves some
     attention. Use the different examples
     given in the later chapters.\\\n"
   ]
  },
  {
   "cell_type": "markdown",
   "metadata": {},
   "source": [
    "## Preliminary design\n",
    "\n",
    "In this phase a further analysis
     of the strength, behaviour of the
     structure is made. Also the stability
     is checked, and necessary stability
     measures are added. To do this, quick
     calculations are made with simplified
     load combinations. The section on
     mechanics offers the necessary
     formulas and ‘forget-me-nots’. More
     attention is given to the foundation
     of the structure. Calculate the total
     vertical load and design a transition
     structure (which transfers the loads
     from the main load bearing structure to
     the foundation). Also a further analysis
     is made of the possible façades, roof
     elements and other building finishes
     needs to be made. How are the
     building finishes connected to the load
     bearing structure?\\\n"
   ]
  },
  {
   "cell_type": "markdown",
   "metadata": {},
   "source": [
    "## Verification of the structural safety and servicability\n",
    "\n",
    "The final preliminairy design of
     which the final dimensions are now
     determined, has to be checked with a
     structural code. In Europe this is the
     Eurocode. The different sections on
     steel, timber, concrete and foundations
     contain the necessary information to
     perform the check.\\\n"
   ]
  },
 "metadata": {
  "kernelspec": {
   "display_name": "Python 3",
   "language": "python",
   "name": "python3"
  },
  "language_info": {
   "codemirror_mode": {
    "name": "ipython",
    "version": 3
   },
   "file_extension": ".py",
   "mimetype": "text/x-python",
   "name": "python",
   "nbconvert_exporter": "python",
   "pygments_lexer": "ipython3",
   "version": "3.8.0"
  },
  "widgets": {
   "application/vnd.jupyter.widget-state+json": {
    "state": {},
    "version_major": 2,
    "version_minor": 0
   }
  }
 }
