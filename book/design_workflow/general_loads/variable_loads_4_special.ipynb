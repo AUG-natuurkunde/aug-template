{
 "cells": [
  {
   "cell_type": "markdown",
   "metadata": {},
   "source": [
    "# Variable loads 4: special"
   ]
  },
  {
   "cell_type": "markdown",
   "metadata": {},
   "source": [
    "Accidental loads are typical high loads, with great effects on the structure.\n",
    "These loads must therefore be accounted for in the design. Not all loads have to be withstood (e.g.: a\n",
    "buffer can prevent ship collisions at a lock gate). Examples of accidental loads are:  \n",
    "- Fire  \n",
    "- (Gas)explosion  \n",
    "- Collision by vehicles  \n",
    "- Impact loads on roofs and guard rails,  \n",
    "- High groundwater tables (flooding)  \n",
    "- Earthquakes \n",
    " \n",
    "For a complete list and determination of the accidental loads see NEN-EN1991-1-7."
   ]
  }
 ],
 "metadata": {
  "kernelspec": {
   "display_name": "Python 3",
   "language": "python",
   "name": "python3"
  },
  "language_info": {
   "codemirror_mode": {
    "name": "ipython",
    "version": 3
   },
   "file_extension": ".py",
   "mimetype": "text/x-python",
   "name": "python",
   "nbconvert_exporter": "python",
   "pygments_lexer": "ipython3",
   "version": "3.8.0"
  },
  "widgets": {
   "application/vnd.jupyter.widget-state+json": {
    "state": {},
    "version_major": 2,
    "version_minor": 0
   }
  }
 },
 "nbformat": 4,
 "nbformat_minor": 4
}
