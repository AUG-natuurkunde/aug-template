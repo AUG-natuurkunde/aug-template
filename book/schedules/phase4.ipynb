{
 "cells": [
  {
   "cell_type": "markdown",
   "metadata": {},
   "source": [
    "# Phase 4: Make sustainable"
   ]
  },
  {
   "cell_type": "markdown",
   "metadata": {},
   "source": [
    "## Project proposal\n",
    "\n",
    "| Work Package 4    | Make Sustainable      |\n",
    "| -------- | --------- |\n",
    "| Aim | We will better include themes such as low carbon footprint, embodied energy and sustainability, and place more emphasis on circular design and material scarcity. |\n",
    "| Activity 1 | For all construction materials, include carbon footprint and environmental “shadow-costs” estimations |\n",
    "| Activity 2 | Provide Life Cycle Assessment information for often-used structural materials and elements. Include circular details (demountable connections) and promote reuse options of old and new materials, components, and structures. |\n",
    "| Deliverables | Content that includes necessary design information for the important themes related to sustainable and circular structural design. |\n",
    "| Planning |September – December 2024|"
   ]
  },
  {
   "cell_type": "markdown",
   "metadata": {},
   "source": [
    "## Tasks"
   ]
  },
  {
   "cell_type": "markdown",
   "metadata": {},
   "source": []
  }
 ],
 "metadata": {
  "kernelspec": {
   "display_name": "Python 3",
   "language": "python",
   "name": "python3"
  },
  "language_info": {
   "codemirror_mode": {
    "name": "ipython",
    "version": 3
   },
   "file_extension": ".py",
   "mimetype": "text/x-python",
   "name": "python",
   "nbconvert_exporter": "python",
   "pygments_lexer": "ipython3",
   "version": "3.8.0"
  },
  "widgets": {
   "application/vnd.jupyter.widget-state+json": {
    "state": {},
    "version_major": 2,
    "version_minor": 0
   }
  }
 },
 "nbformat": 4,
 "nbformat_minor": 4
}
