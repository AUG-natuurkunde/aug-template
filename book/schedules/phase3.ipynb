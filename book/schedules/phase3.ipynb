{
 "cells": [
  {
   "cell_type": "markdown",
   "metadata": {},
   "source": [
    "# Phase 3: Make Fresh"
   ]
  },
  {
   "cell_type": "markdown",
   "metadata": {},
   "source": [
    "## Project proposal\n",
    "\n",
    "| Work Package 3    | Make Fresh      |\n",
    "| -------- | -------- |\n",
    "| Aim | The present content of the Quick Reference and Vademecum will be updated. |\n",
    "| Activity 1 | Where needed, errata from earlier editions will be processed. We have a list of various issues that need update. |\n",
    "| Activity 2 | Verify if all content is still correct and up-to-date. |\n",
    "| Activity 3 | Reach out to publishers of similar non-commercial content (e.g. Betonvereniging, Bouwen met Staal) to see if we can join forces. |\n",
    "| Activity 4 | Reach out to manufacturers to ask if they want to provide us with relevant content and help us to keep it up-to-date. |\n",
    "| Deliverables | Content that is up-to-date and that includes new information where relevant, including the chapter on sketches and drawings. |\n",
    "| Planning |June – September 2024|\n",
    "\n",
    ":::{note}\n",
    "Where needed, add new product or material information.\n",
    ":::"
   ]
  },
  {
   "cell_type": "markdown",
   "metadata": {},
   "source": [
    "## Tasks"
   ]
  },
  {
   "cell_type": "markdown",
   "metadata": {},
   "source": []
  }
 ],
 "metadata": {
  "kernelspec": {
   "display_name": "Python 3",
   "language": "python",
   "name": "python3"
  },
  "language_info": {
   "codemirror_mode": {
    "name": "ipython",
    "version": 3
   },
   "file_extension": ".py",
   "mimetype": "text/x-python",
   "name": "python",
   "nbconvert_exporter": "python",
   "pygments_lexer": "ipython3",
   "version": "3.8.0"
  },
  "widgets": {
   "application/vnd.jupyter.widget-state+json": {
    "state": {},
    "version_major": 2,
    "version_minor": 0
   }
  }
 },
 "nbformat": 4,
 "nbformat_minor": 4
}
