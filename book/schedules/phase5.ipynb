{
 "cells": [
  {
   "cell_type": "markdown",
   "metadata": {},
   "source": [
    "# Phase 5: Project Management"
   ]
  },
  {
   "cell_type": "markdown",
   "metadata": {},
   "source": [
    "## Project proposal\n",
    "\n",
    "| Work Package 5    | Project Management     |\n",
    "| -------- | --------- |\n",
    "| Aim | We will set up a schedule that staff and teaching assistants can collaborate. The teaching assistants can identify which information is most useful for students from their perspective, and do most of the hands-on work.|\n",
    "| Activity 1 | We collaborate across 3 departments and 2 Faculties. |\n",
    "| Activity 2 | We will employ students from our MSc track at CiTG and A&BE |\n",
    "| Activity 3 | Project leader is distributing tasks and responsibilities and will |\n",
    "| Activity 4 | We will take part in public events to advertise and disseminate our work. |\n",
    "| Activity 5 | Project leader will contribute to final product where needed and do financial project control. |\n",
    "| Deliverables | A well-managed project. |\n",
    "| Planning |Full year 2024|"
   ]
  },
  {
   "cell_type": "markdown",
   "metadata": {},
   "source": [
    "## Tasks"
   ]
  },
  {
   "cell_type": "markdown",
   "metadata": {},
   "source": []
  }
 ],
 "metadata": {
  "kernelspec": {
   "display_name": "Python 3",
   "language": "python",
   "name": "python3"
  },
  "language_info": {
   "codemirror_mode": {
    "name": "ipython",
    "version": 3
   },
   "file_extension": ".py",
   "mimetype": "text/x-python",
   "name": "python",
   "nbconvert_exporter": "python",
   "pygments_lexer": "ipython3",
   "version": "3.8.0"
  },
  "widgets": {
   "application/vnd.jupyter.widget-state+json": {
    "state": {},
    "version_major": 2,
    "version_minor": 0
   }
  }
 },
 "nbformat": 4,
 "nbformat_minor": 4
}
