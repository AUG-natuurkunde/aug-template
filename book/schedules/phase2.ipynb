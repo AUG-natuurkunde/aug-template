{
 "cells": [
  {
   "cell_type": "markdown",
   "metadata": {},
   "source": [
    "# Phase 2: Make interactive"
   ]
  },
  {
   "cell_type": "markdown",
   "metadata": {},
   "source": [
    "## Project proposal\n",
    "\n",
    "| Work Package 2    | Make interactive      |\n",
    "| -------- | --------- |\n",
    "| Aim | Screening of existing Quick Reference and Vademecum for opportunities to make interactive materials and development of interactive graphs |\n",
    "| Activity 1 | Include (e.g. Myst Markdown) interactive fields (e.g. hints, warnings, suggestions or exercises). |\n",
    "| Activity 2 | Develop 3D objects with interactive viewpoint change (especially useful for details of connections in structures) |\n",
    "| Activity 3 | Develop (design) diagrams that show the Python code generating them (e.g. useful for determining capacity of cross-sections under bending moment and normal force). |\n",
    "| Activity 4 | Develop interactive plots, that can be controlled with sliders or applets that allow interactivity |\n",
    "| Activity 5 | Include live references (hyperlinks) and clear citation style to external resources, both scientific and industry-related (e.g. product documentation). |\n",
    "| Deliverables | A new version of the existing content that is OER and interactive. |\n",
    "| Planning | March – June 2024 |"
   ]
  },
  {
   "cell_type": "markdown",
   "metadata": {},
   "source": [
    "## Tasks"
   ]
  },
  {
   "cell_type": "markdown",
   "metadata": {},
   "source": []
  }
 ],
 "metadata": {
  "kernelspec": {
   "display_name": "Python 3",
   "language": "python",
   "name": "python3"
  },
  "language_info": {
   "codemirror_mode": {
    "name": "ipython",
    "version": 3
   },
   "file_extension": ".py",
   "mimetype": "text/x-python",
   "name": "python",
   "nbconvert_exporter": "python",
   "pygments_lexer": "ipython3",
   "version": "3.8.0"
  },
  "widgets": {
   "application/vnd.jupyter.widget-state+json": {
    "state": {},
    "version_major": 2,
    "version_minor": 0
   }
  }
 },
 "nbformat": 4,
 "nbformat_minor": 4
}
